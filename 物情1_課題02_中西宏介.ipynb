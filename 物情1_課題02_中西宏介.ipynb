{
  "nbformat": 4,
  "nbformat_minor": 0,
  "metadata": {
    "colab": {
      "provenance": [],
      "authorship_tag": "ABX9TyMrm2BVftDhZ0M82sJyNyqh",
      "include_colab_link": true
    },
    "kernelspec": {
      "name": "python3",
      "display_name": "Python 3"
    },
    "language_info": {
      "name": "python"
    }
  },
  "cells": [
    {
      "cell_type": "markdown",
      "metadata": {
        "id": "view-in-github",
        "colab_type": "text"
      },
      "source": [
        "<a href=\"https://colab.research.google.com/github/dbau2525/hello-world/blob/main/%E7%89%A9%E6%83%851_%E8%AA%B2%E9%A1%8C02_%E4%B8%AD%E8%A5%BF%E5%AE%8F%E4%BB%8B.ipynb\" target=\"_parent\"><img src=\"https://colab.research.google.com/assets/colab-badge.svg\" alt=\"Open In Colab\"/></a>"
      ]
    },
    {
      "cell_type": "markdown",
      "source": [
        "整数(int)型"
      ],
      "metadata": {
        "id": "qsoKBlKmn64_"
      }
    },
    {
      "cell_type": "code",
      "source": [
        "print(2024)\n",
        "print(type(2024))\n",
        "print(31) #10進数\n",
        "print(0b11111) #2進数\n",
        "print(0o37) #8進数\n",
        "print(0x1F) #16進数\n",
        "print(123_45_6_789_0000) #数値セパレータを使う場合"
      ],
      "metadata": {
        "colab": {
          "base_uri": "https://localhost:8080/"
        },
        "id": "Bt1RHebPmPaV",
        "outputId": "c8962cfe-4ef2-4825-d914-b2770486e0c7"
      },
      "execution_count": null,
      "outputs": [
        {
          "output_type": "stream",
          "name": "stdout",
          "text": [
            "2024\n",
            "<class 'int'>\n",
            "31\n",
            "31\n",
            "31\n",
            "31\n",
            "1234567890000\n"
          ]
        }
      ]
    },
    {
      "cell_type": "markdown",
      "source": [
        "倍精度浮動小数点(double)型"
      ],
      "metadata": {
        "id": "MTdkvGwQoDr0"
      }
    },
    {
      "cell_type": "code",
      "source": [
        "print(2.718281828459045235360287471352)\n",
        "print(type(2.718281828459045235360287471352))\n",
        "print(2.71828_18284_59045_23536_02874_71352) #数値セパレータを使う場合"
      ],
      "metadata": {
        "colab": {
          "base_uri": "https://localhost:8080/"
        },
        "id": "m-dxv6myoDLc",
        "outputId": "c7e6fc7f-adad-429d-fe07-d95ab762841a"
      },
      "execution_count": null,
      "outputs": [
        {
          "output_type": "stream",
          "name": "stdout",
          "text": [
            "2.718281828459045\n",
            "<class 'float'>\n",
            "2.718281828459045\n"
          ]
        }
      ]
    },
    {
      "cell_type": "code",
      "source": [
        "print(1000)\n",
        "print(1000.0)\n",
        "print(1000.)\n",
        "print(1.0e3)\n",
        "print(1.e3)"
      ],
      "metadata": {
        "colab": {
          "base_uri": "https://localhost:8080/"
        },
        "id": "CxJQX8J4pFdk",
        "outputId": "97f60bb3-4510-434e-8459-55f7a177b94c"
      },
      "execution_count": null,
      "outputs": [
        {
          "output_type": "stream",
          "name": "stdout",
          "text": [
            "1000\n",
            "1000.0\n",
            "1000.0\n",
            "1000.0\n",
            "1000.0\n"
          ]
        }
      ]
    },
    {
      "cell_type": "markdown",
      "source": [
        "真偽(bool)"
      ],
      "metadata": {
        "id": "Tcqqog9NpWkl"
      }
    },
    {
      "cell_type": "code",
      "source": [
        "print(False)\n",
        "print(True)\n",
        "print(type(False))"
      ],
      "metadata": {
        "colab": {
          "base_uri": "https://localhost:8080/"
        },
        "id": "zC5NYFhvpan8",
        "outputId": "e854605a-084e-47fe-bd58-60cdc4831954"
      },
      "execution_count": null,
      "outputs": [
        {
          "output_type": "stream",
          "name": "stdout",
          "text": [
            "False\n",
            "True\n",
            "<class 'bool'>\n"
          ]
        }
      ]
    },
    {
      "cell_type": "markdown",
      "source": [
        "文字列(string)"
      ],
      "metadata": {
        "id": "i9tNXKkXpi6U"
      }
    },
    {
      "cell_type": "code",
      "execution_count": null,
      "metadata": {
        "colab": {
          "base_uri": "https://localhost:8080/"
        },
        "id": "8KfACTVVlE5C",
        "outputId": "84f717dd-0151-4f96-b4fa-c8fd4867d0de"
      },
      "outputs": [
        {
          "output_type": "stream",
          "name": "stdout",
          "text": [
            "Hello World\n",
            "<class 'str'>\n",
            "My name is \"Kosuke\", \n",
            " and I have 4 brothers.\n",
            "My name is 'Kosuke', \n",
            " and I have 2 sisters.\n"
          ]
        }
      ],
      "source": [
        "print('Hello World')\n",
        "print(type('Hello world'))\n",
        "print('My name is \"Kosuke\", \\n and \\\n",
        "I have 4 brothers.') #クオーテーション、改行、複数行\n",
        "print(\"My name is 'Kosuke', \\n and \\\n",
        "I have 2 sisters.\")"
      ]
    },
    {
      "cell_type": "markdown",
      "source": [
        "リスト、配列(list)"
      ],
      "metadata": {
        "id": "IWb6XWFtqX7b"
      }
    },
    {
      "cell_type": "code",
      "source": [
        "print([3,1,4,1,5,9,2,6,5,3,5])\n",
        "print(type[3,1,4,1,5,9,2,6,5,3,5])\n",
        "print(len([3,1,4,1,5,9,2,6,5,3,5])) #長さ\n",
        "\n",
        "list_pi=[3,1,4,1,5,9,2,6,5,3,5]\n",
        "list_pi[2] #インデックスが2の値を表示"
      ],
      "metadata": {
        "colab": {
          "base_uri": "https://localhost:8080/"
        },
        "id": "pfSntQtNmAq-",
        "outputId": "aa66b826-80b8-4fe2-d0bd-ebc04947157e"
      },
      "execution_count": null,
      "outputs": [
        {
          "output_type": "stream",
          "name": "stdout",
          "text": [
            "[3, 1, 4, 1, 5, 9, 2, 6, 5, 3, 5]\n",
            "type[3, 1, 4, 1, 5, 9, 2, 6, 5, 3, 5]\n",
            "11\n"
          ]
        },
        {
          "output_type": "execute_result",
          "data": {
            "text/plain": [
              "4"
            ]
          },
          "metadata": {},
          "execution_count": 26
        }
      ]
    },
    {
      "cell_type": "markdown",
      "source": [
        "タプル(tuple)"
      ],
      "metadata": {
        "id": "F5cVytynq3jV"
      }
    },
    {
      "cell_type": "code",
      "source": [
        "print(2024,10,17,22,32)\n",
        "print(type((2024,10,17,22,32)))"
      ],
      "metadata": {
        "colab": {
          "base_uri": "https://localhost:8080/"
        },
        "id": "WrlHfTpMq7ya",
        "outputId": "b670c214-b4b6-42f2-e230-f7623c466f9c"
      },
      "execution_count": null,
      "outputs": [
        {
          "output_type": "stream",
          "name": "stdout",
          "text": [
            "2024 10 17 22 32\n",
            "<class 'tuple'>\n"
          ]
        }
      ]
    },
    {
      "cell_type": "markdown",
      "source": [
        "変数"
      ],
      "metadata": {
        "id": "o6pS025TsE87"
      }
    },
    {
      "cell_type": "code",
      "source": [
        "x=2024\n",
        "pi=3.1415926535897932384626\n",
        "boolVal=True #CamlCase記法\n",
        "StringHello=\"Hello\" #Pascal記法\n",
        "list_data=[2,0,2,4,1,0,1,8,1,3,4,3] #アンダースコア記法\n",
        "Tuple_Data=(2024,10,18,13,43) #アンダースコア記法\n",
        "Complex_data=1+2j #アンダースコア記法 #複素数\n",
        "print(list_data[4]) #インデックスが4の値を表示\n",
        "print(Tuple_Data[0]) #インデックスが0の値を表示"
      ],
      "metadata": {
        "id": "_XVYS6XzvhjN",
        "colab": {
          "base_uri": "https://localhost:8080/"
        },
        "outputId": "34266839-a53b-4163-c977-afb9df5c66dd"
      },
      "execution_count": null,
      "outputs": [
        {
          "output_type": "stream",
          "name": "stdout",
          "text": [
            "1\n",
            "2024\n"
          ]
        }
      ]
    },
    {
      "cell_type": "markdown",
      "source": [
        "キャスト"
      ],
      "metadata": {
        "id": "Q4N2X3aC85aq"
      }
    },
    {
      "cell_type": "code",
      "source": [
        "print(float(x))\n",
        "print(int(pi))\n",
        "print(len(list_data))\n",
        "print(list(Tuple_Data))\n",
        "print(tuple(list_data))"
      ],
      "metadata": {
        "colab": {
          "base_uri": "https://localhost:8080/"
        },
        "id": "JE04gn-h87qC",
        "outputId": "2569c338-94fb-4ab6-cfbd-cb6f8276a285"
      },
      "execution_count": null,
      "outputs": [
        {
          "output_type": "stream",
          "name": "stdout",
          "text": [
            "2024.0\n",
            "3\n",
            "12\n",
            "[2024, 10, 18, 13, 43]\n",
            "(2, 0, 2, 4, 1, 0, 1, 8, 1, 3, 4, 3)\n"
          ]
        }
      ]
    },
    {
      "cell_type": "markdown",
      "source": [
        "エラーが出る例"
      ],
      "metadata": {
        "id": "EOhwmZKL9tXU"
      }
    },
    {
      "cell_type": "code",
      "source": [
        "print(z) #未定義の変数z"
      ],
      "metadata": {
        "colab": {
          "base_uri": "https://localhost:8080/",
          "height": 163
        },
        "id": "L5DceKFb90L5",
        "outputId": "958c2f13-7fd1-49a6-e573-cd9f8fa976b0"
      },
      "execution_count": null,
      "outputs": [
        {
          "output_type": "error",
          "ename": "NameError",
          "evalue": "name 'z' is not defined",
          "traceback": [
            "\u001b[0;31m---------------------------------------------------------------------------\u001b[0m",
            "\u001b[0;31mNameError\u001b[0m                                 Traceback (most recent call last)",
            "\u001b[0;32m<ipython-input-22-fca64515a8cb>\u001b[0m in \u001b[0;36m<cell line: 1>\u001b[0;34m()\u001b[0m\n\u001b[0;32m----> 1\u001b[0;31m \u001b[0mprint\u001b[0m\u001b[0;34m(\u001b[0m\u001b[0mz\u001b[0m\u001b[0;34m)\u001b[0m \u001b[0;31m#未定義の変数z\u001b[0m\u001b[0;34m\u001b[0m\u001b[0;34m\u001b[0m\u001b[0m\n\u001b[0m\u001b[1;32m      2\u001b[0m \u001b[0mprint\u001b[0m\u001b[0;34m(\u001b[0m\u001b[0mx\u001b[0m\u001b[0;34m)\u001b[0m\u001b[0;34m\u001b[0m\u001b[0;34m\u001b[0m\u001b[0m\n",
            "\u001b[0;31mNameError\u001b[0m: name 'z' is not defined"
          ]
        }
      ]
    },
    {
      "cell_type": "code",
      "source": [
        "and=True #予約語を変数に使えない"
      ],
      "metadata": {
        "colab": {
          "base_uri": "https://localhost:8080/",
          "height": 109
        },
        "id": "IwBGNhXn98pT",
        "outputId": "3316025f-5426-490c-ede6-a7cf65f91fc2"
      },
      "execution_count": null,
      "outputs": [
        {
          "output_type": "error",
          "ename": "SyntaxError",
          "evalue": "invalid syntax (<ipython-input-7-488b3b6b4d12>, line 1)",
          "traceback": [
            "\u001b[0;36m  File \u001b[0;32m\"<ipython-input-7-488b3b6b4d12>\"\u001b[0;36m, line \u001b[0;32m1\u001b[0m\n\u001b[0;31m    and=True #予約語を変数に使えない\u001b[0m\n\u001b[0m    ^\u001b[0m\n\u001b[0;31mSyntaxError\u001b[0m\u001b[0;31m:\u001b[0m invalid syntax\n"
          ]
        }
      ]
    },
    {
      "cell_type": "code",
      "source": [
        "list_pi[3,1,4,1,5,9,2,6 #最後の括弧が不足"
      ],
      "metadata": {
        "colab": {
          "base_uri": "https://localhost:8080/",
          "height": 109
        },
        "id": "pEXY_WvF-C4a",
        "outputId": "ec3268fb-bf91-44e0-e19c-ee46c7e8cdab"
      },
      "execution_count": null,
      "outputs": [
        {
          "output_type": "error",
          "ename": "SyntaxError",
          "evalue": "incomplete input (<ipython-input-8-665f42cc9d57>, line 1)",
          "traceback": [
            "\u001b[0;36m  File \u001b[0;32m\"<ipython-input-8-665f42cc9d57>\"\u001b[0;36m, line \u001b[0;32m1\u001b[0m\n\u001b[0;31m    list_pi[3,1,4,1,5,9,2,6 #最後の括弧が不足\u001b[0m\n\u001b[0m                                     ^\u001b[0m\n\u001b[0;31mSyntaxError\u001b[0m\u001b[0;31m:\u001b[0m incomplete input\n"
          ]
        }
      ]
    },
    {
      "cell_type": "code",
      "source": [
        "tuple_n1=2024,10,18,13,53) #最初の括弧が不足"
      ],
      "metadata": {
        "colab": {
          "base_uri": "https://localhost:8080/",
          "height": 109
        },
        "id": "Y_vhf_Vd-Qlh",
        "outputId": "484ec1b9-94a3-45b9-e8cc-2c9d03506aeb"
      },
      "execution_count": null,
      "outputs": [
        {
          "output_type": "error",
          "ename": "SyntaxError",
          "evalue": "unmatched ')' (<ipython-input-9-e2df7e533e4a>, line 1)",
          "traceback": [
            "\u001b[0;36m  File \u001b[0;32m\"<ipython-input-9-e2df7e533e4a>\"\u001b[0;36m, line \u001b[0;32m1\u001b[0m\n\u001b[0;31m    tuple_n1=2024,10,18,13,53) #最初の括弧が不足\u001b[0m\n\u001b[0m                             ^\u001b[0m\n\u001b[0;31mSyntaxError\u001b[0m\u001b[0;31m:\u001b[0m unmatched ')'\n"
          ]
        }
      ]
    },
    {
      "cell_type": "code",
      "source": [
        "tuple-n2=(1,2,3,4,5) #変数名に記号-は使えない"
      ],
      "metadata": {
        "colab": {
          "base_uri": "https://localhost:8080/",
          "height": 109
        },
        "id": "WYCm0P59-i-D",
        "outputId": "8c889deb-2385-43ba-8c8c-1ebba19c1dc4"
      },
      "execution_count": null,
      "outputs": [
        {
          "output_type": "error",
          "ename": "SyntaxError",
          "evalue": "cannot assign to expression here. Maybe you meant '==' instead of '='? (<ipython-input-10-4899615e40a5>, line 1)",
          "traceback": [
            "\u001b[0;36m  File \u001b[0;32m\"<ipython-input-10-4899615e40a5>\"\u001b[0;36m, line \u001b[0;32m1\u001b[0m\n\u001b[0;31m    tuple-n2=(1,2,3,4,5) #変数名に記号-は使えない\u001b[0m\n\u001b[0m    ^\u001b[0m\n\u001b[0;31mSyntaxError\u001b[0m\u001b[0;31m:\u001b[0m cannot assign to expression here. Maybe you meant '==' instead of '='?\n"
          ]
        }
      ]
    },
    {
      "cell_type": "code",
      "source": [
        "string_number='1024'\n",
        "print(X+string_numner) #int2024とstring'256'は型が一致しないのでエラー"
      ],
      "metadata": {
        "colab": {
          "base_uri": "https://localhost:8080/",
          "height": 163
        },
        "id": "_FiNK6Ac_UXq",
        "outputId": "e3202223-9147-4054-f620-1a04e5da9d65"
      },
      "execution_count": null,
      "outputs": [
        {
          "output_type": "error",
          "ename": "NameError",
          "evalue": "name 'X' is not defined",
          "traceback": [
            "\u001b[0;31m---------------------------------------------------------------------------\u001b[0m",
            "\u001b[0;31mNameError\u001b[0m                                 Traceback (most recent call last)",
            "\u001b[0;32m<ipython-input-12-5f17d9dd5775>\u001b[0m in \u001b[0;36m<cell line: 2>\u001b[0;34m()\u001b[0m\n\u001b[1;32m      1\u001b[0m \u001b[0mstring_number\u001b[0m\u001b[0;34m=\u001b[0m\u001b[0;34m'1024'\u001b[0m\u001b[0;34m\u001b[0m\u001b[0;34m\u001b[0m\u001b[0m\n\u001b[0;32m----> 2\u001b[0;31m \u001b[0mprint\u001b[0m\u001b[0;34m(\u001b[0m\u001b[0mX\u001b[0m\u001b[0;34m+\u001b[0m\u001b[0mstring_numner\u001b[0m\u001b[0;34m)\u001b[0m \u001b[0;31m#int2024とstring'256'は型が一致しないのでエラー\u001b[0m\u001b[0;34m\u001b[0m\u001b[0;34m\u001b[0m\u001b[0m\n\u001b[0m",
            "\u001b[0;31mNameError\u001b[0m: name 'X' is not defined"
          ]
        }
      ]
    },
    {
      "cell_type": "code",
      "source": [
        "print(x+int(string_number)) #2024+1024\n",
        "print(str(x)+string_number) #'2024'+'1024'"
      ],
      "metadata": {
        "colab": {
          "base_uri": "https://localhost:8080/"
        },
        "id": "tqEEUiVh_ujJ",
        "outputId": "f843f11d-3158-4584-f134-19811bc27132"
      },
      "execution_count": null,
      "outputs": [
        {
          "output_type": "stream",
          "name": "stdout",
          "text": [
            "3048\n",
            "20241024\n"
          ]
        }
      ]
    },
    {
      "cell_type": "markdown",
      "source": [
        "演算子の使用"
      ],
      "metadata": {
        "id": "Pd9iBZfpAEeh"
      }
    },
    {
      "cell_type": "code",
      "source": [
        "print(2*4)\n",
        "print(2**4)\n",
        "print(33/7)\n",
        "print(33//7)\n",
        "print(33%7)"
      ],
      "metadata": {
        "colab": {
          "base_uri": "https://localhost:8080/"
        },
        "id": "Ri5Fy8kEAGfB",
        "outputId": "367d59c3-5d6d-42b5-cf6f-922b1e62994e"
      },
      "execution_count": null,
      "outputs": [
        {
          "output_type": "stream",
          "name": "stdout",
          "text": [
            "8\n",
            "16\n",
            "4.714285714285714\n",
            "4\n",
            "5\n"
          ]
        }
      ]
    },
    {
      "cell_type": "markdown",
      "source": [
        "ライブラリ・モジュールの使用"
      ],
      "metadata": {
        "id": "705KRnKlAfE9"
      }
    },
    {
      "cell_type": "code",
      "source": [
        "import math #mathモジュールのインポート\n",
        "print(math.pi)\n",
        "print(math.sin(3.))\n",
        "print(math.exp(3.))\n",
        "print(math.exp(1.))\n",
        "print(math.factorial(6))\n",
        "print(math.sqrt(7))"
      ],
      "metadata": {
        "colab": {
          "base_uri": "https://localhost:8080/"
        },
        "id": "AgzoxjQLAiqy",
        "outputId": "f93736a3-1154-4f11-abf4-f66a5a9ff5df"
      },
      "execution_count": null,
      "outputs": [
        {
          "output_type": "stream",
          "name": "stdout",
          "text": [
            "3.141592653589793\n",
            "0.1411200080598672\n",
            "20.085536923187668\n",
            "2.718281828459045\n",
            "720\n",
            "2.6457513110645907\n"
          ]
        }
      ]
    },
    {
      "cell_type": "markdown",
      "source": [
        "グラフの描画"
      ],
      "metadata": {
        "id": "o1Lk8kZfBMuZ"
      }
    },
    {
      "cell_type": "code",
      "source": [
        "import matplotlib.pyplot as plt\n",
        "plt.plot([1,2,3,4,5],[3,7,2,9,8])\n",
        "plt.show()"
      ],
      "metadata": {
        "colab": {
          "base_uri": "https://localhost:8080/",
          "height": 430
        },
        "id": "vc69HQjjBOIC",
        "outputId": "226efba7-8076-4c35-a2be-3a6ddb45f924"
      },
      "execution_count": null,
      "outputs": [
        {
          "output_type": "display_data",
          "data": {
            "text/plain": [
              "<Figure size 640x480 with 1 Axes>"
            ],
            "image/png": "[encoded data removed]"
          },
          "metadata": {}
        }
      ]
    },
    {
      "cell_type": "markdown",
      "source": [
        "逆有利化問題"
      ],
      "metadata": {
        "id": "qzgK3KzZCYaw"
      }
    },
    {
      "cell_type": "code",
      "source": [
        "a=1.e-16\n",
        "print(math.sqrt(1+a)-1) #有理化前\n",
        "print(a/(math.sqrt(1+a)+1)) #有理化後"
      ],
      "metadata": {
        "colab": {
          "base_uri": "https://localhost:8080/"
        },
        "id": "6Y-zKdIMCayw",
        "outputId": "ffa38ef9-c40c-45c0-8292-eb18de8746b4"
      },
      "execution_count": null,
      "outputs": [
        {
          "output_type": "stream",
          "name": "stdout",
          "text": [
            "0.0\n",
            "5e-17\n"
          ]
        }
      ]
    },
    {
      "cell_type": "markdown",
      "source": [
        "ライプニッツの公式 \\\n",
        "$ \\frac{\\pi}{4} = \\sum_{n=0}^{\\infty}\\frac{(-1)^n}{2n+1} $"
      ],
      "metadata": {
        "id": "VxPEURasEA5A"
      }
    },
    {
      "cell_type": "code",
      "source": [
        "pi_Leibniz0=4*(1/1)\n",
        "pi_Leibniz1=4*(1/1 -1/3)\n",
        "pi_Leibniz2=4*(1/1 -1/3 +1/5)\n",
        "pi_Leibniz3=4*(1/1 -1/3 +1/5 -1/7)\n",
        "pi_Leibniz4=4*(1/1 -1/3 +1/5 -1/7 +1/9)\n",
        "pi_Leibniz5=4*(1/1 -1/3 +1/5 -1/7 +1/9 -1/11)\n",
        "pi_Leibniz6=4*(1/1 -1/3 +1/5 -1/7 +1/9 -1/11 +1/13)\n",
        "pi_Leibniz7=4*(1/1 -1/3 +1/5 -1/7 +1/9 -1/11 +1/13 -1/15)\n",
        "pi_Leibniz8=4*(1/1 -1/3 +1/5 -1/7 +1/9 -1/11 +1/13 -1/15 +1/17)\n",
        "pi_Leibniz9=4*(1/1 -1/3 +1/5 -1/7 +1/9 -1/11 +1/13 -1/15 +1/17 -1/19)\n",
        "pi_Leibniz10=4*(1/1 -1/3 +1/5 -1/7 +1/9 -1/11 +1/13 -1/15 +1/17 -1/19 +1/21)\n",
        "pi_Leibniz11=4*(1/1 -1/3 +1/5 -1/7 +1/9 -1/11 +1/13 -1/15 +1/17 -1/19 +1/21 -1/23)\n",
        "\n",
        "print(pi_Leibniz0)\n",
        "print(pi_Leibniz1)\n",
        "print(pi_Leibniz2)\n",
        "print(pi_Leibniz3)\n",
        "print(pi_Leibniz4)\n",
        "print(pi_Leibniz5)\n",
        "print(pi_Leibniz6)\n",
        "print(pi_Leibniz7)\n",
        "print(pi_Leibniz8)\n",
        "print(pi_Leibniz9)\n",
        "print(pi_Leibniz10)\n",
        "print(pi_Leibniz11)"
      ],
      "metadata": {
        "colab": {
          "base_uri": "https://localhost:8080/"
        },
        "id": "ET9RRlKMEC7w",
        "outputId": "0853a24a-bd06-4a60-87e8-c20ba6a69682"
      },
      "execution_count": null,
      "outputs": [
        {
          "output_type": "stream",
          "name": "stdout",
          "text": [
            "4.0\n",
            "2.666666666666667\n",
            "3.466666666666667\n",
            "2.8952380952380956\n",
            "3.3396825396825403\n",
            "2.9760461760461765\n",
            "3.2837384837384844\n",
            "3.017071817071818\n",
            "3.2523659347188767\n",
            "3.0418396189294032\n",
            "3.232315809405594\n",
            "3.058402765927333\n"
          ]
        }
      ]
    },
    {
      "cell_type": "markdown",
      "source": [
        "ラマヌジャンの公式 \\\n",
        "$\\frac{1}{\\pi} = \\frac{2\\sqrt{2}}{99^2} \\sum_{n=0}^{\\infty} \\frac{(4n)!}{(n!)^4} \\frac{26390n+1103}{(396)^{4n}}$"
      ],
      "metadata": {
        "id": "49-Il81IGZaY"
      }
    },
    {
      "cell_type": "code",
      "source": [
        "import math\n",
        "\n",
        "pi_Ramanujan0=1/((2*math.sqrt(2))/(99**2) *\n",
        "                 (math.factorial(4*0))/((math.factorial(0))**4) * (26390*0+1103)/((396)**(4*0)))\n",
        "pi_Ramanujan1=1/((2*math.sqrt(2))/(99**2) *\n",
        "                 ( (math.factorial(4*0))/((math.factorial(0))**4) * (26390*0+1103)/((396)**(4*0)) +\n",
        "                 (math.factorial(4*1))/((math.factorial(1))**4) * (26390*1+1103)/((396)**(4*1))) )\n",
        "pi_Ramanujan2=1/((2*math.sqrt(2))/(99**2) *\n",
        "                 ( (math.factorial(4*0))/((math.factorial(0))**4) * (26390*0+1103)/((396)**(4*0)) +\n",
        "                 (math.factorial(4*1))/((math.factorial(1))**4) * (26390*1+1103)/((396)**(4*1)) +\n",
        "                 (math.factorial(4*2))/((math.factorial(2))**4) * (26390*2+1103)/((396)**(4*2))) )\n",
        "pi_Ramanujan3=1/((2*math.sqrt(2))/(99**2) *\n",
        "                 ( (math.factorial(4*0))/((math.factorial(0))**4) * (26390*0+1103)/((396)**(4*0)) +\n",
        "                 (math.factorial(4*1))/((math.factorial(1))**4) * (26390*1+1103)/((396)**(4*1)) +\n",
        "                 (math.factorial(4*2))/((math.factorial(2))**4) * (26390*2+1103)/((396)**(4*2)) +\n",
        "                 (math.factorial(4*3))/((math.factorial(3))**4) * (26390*3+1103)/((396)**(4*3))) )\n",
        "\n",
        "print(pi_Ramanujan0)\n",
        "print(pi_Ramanujan1)\n",
        "print(pi_Ramanujan2)\n",
        "print(pi_Ramanujan3)"
      ],
      "metadata": {
        "colab": {
          "base_uri": "https://localhost:8080/"
        },
        "id": "FkOGjwO8HmC_",
        "outputId": "3ee1c9c6-0648-4587-b841-183bac7f6193"
      },
      "execution_count": null,
      "outputs": [
        {
          "output_type": "stream",
          "name": "stdout",
          "text": [
            "3.1415927300133055\n",
            "3.1415926535897936\n",
            "3.141592653589793\n",
            "3.141592653589793\n"
          ]
        }
      ]
    }
  ]
}